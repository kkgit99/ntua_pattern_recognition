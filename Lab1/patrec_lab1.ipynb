{
  "nbformat": 4,
  "nbformat_minor": 0,
  "metadata": {
    "colab": {
      "name": "patrec_lab1.ipynb",
      "provenance": [],
      "collapsed_sections": []
    },
    "kernelspec": {
      "name": "python3",
      "display_name": "Python 3"
    },
    "language_info": {
      "name": "python"
    },
    "accelerator": "GPU"
  },
  "cells": [
    {
      "cell_type": "markdown",
      "metadata": {
        "id": "sk1GRclblnCb"
      },
      "source": [
        "<h3 align=\"center\">Pattern Recognition, Semester 9 - October 2021</h3>\n",
        "\n",
        "## Lab1 Prep: Visual Digit Recognition</h3>\n",
        "\n",
        "    Dimitris Dimos (031 17 165)\n",
        "    Konstantinos Kopsinis (031 17 062)"
      ]
    },
    {
      "cell_type": "markdown",
      "metadata": {
        "id": "_ErjWUhH9Ac9"
      },
      "source": [
        "### Aux Code"
      ]
    },
    {
      "cell_type": "code",
      "metadata": {
        "colab": {
          "base_uri": "https://localhost:8080/"
        },
        "id": "umdliBZBZXSp",
        "outputId": "c43560bb-8b7a-4574-a0f6-a7c9703800b3"
      },
      "source": [
        "\n",
        "# mount drive\n",
        "from google.colab import drive\n",
        "drive.mount('/content/drive')\n",
        "\n",
        "# change to patrec_lab1\n",
        "%cd /content/drive/MyDrive/PatRec_Labs/Lab1\n"
      ],
      "execution_count": null,
      "outputs": [
        {
          "output_type": "stream",
          "name": "stdout",
          "text": [
            "Drive already mounted at /content/drive; to attempt to forcibly remount, call drive.mount(\"/content/drive\", force_remount=True).\n",
            "/content/drive/MyDrive/PatRec_Labs/Lab1\n"
          ]
        }
      ]
    },
    {
      "cell_type": "markdown",
      "metadata": {
        "id": "b8u-LUnkiXLO"
      },
      "source": [
        "### Imports"
      ]
    },
    {
      "cell_type": "code",
      "metadata": {
        "id": "sUYuuYS4piMk"
      },
      "source": [
        "import numpy as np\n",
        "import random\n",
        "import matplotlib.pyplot as plt\n",
        "from sklearn.naive_bayes import GaussianNB\n",
        "from sklearn.svm import SVC\n",
        "from sklearn.neighbors import KNeighborsClassifier\n",
        "from sklearn.ensemble import VotingClassifier, BaggingClassifier\n",
        "import lib"
      ],
      "execution_count": null,
      "outputs": []
    },
    {
      "cell_type": "markdown",
      "metadata": {
        "id": "bHRmXNHhimT7"
      },
      "source": [
        "### Step 1: Input Data"
      ]
    },
    {
      "cell_type": "code",
      "metadata": {
        "id": "8cJXu4tkmP1f"
      },
      "source": [
        "with open(\"train.txt\", \"r\") as train_data:\n",
        "    train_lines = []\n",
        "    for line in train_data.readlines():\n",
        "        train_lines.append(line.replace(\" \\n\", \"\").replace(\"\\n\", \"\").split(\" \"))\n",
        "    train_arr = np.array(train_lines)\n",
        "    X_train = np.array(train_arr[:,1:], dtype=np.float)\n",
        "    Y_train = np.array(train_arr[:, 0], dtype=np.float).astype(np.int64)  # cannot cast directly into int64\n",
        "    n_samples_train = X_train.shape[0]\n",
        "    n_features = X_train.shape[1]\n",
        "\n",
        "with open(\"test.txt\", \"r\") as test_data:\n",
        "    test_lines = []\n",
        "    for line in test_data.readlines():\n",
        "        test_lines.append(line.replace(\" \\n\", \"\").replace(\"\\n\", \"\").split(\" \"))\n",
        "    test_arr = np.array(test_lines)\n",
        "    X_test = np.array(test_arr[:,1:], dtype=np.float)\n",
        "    Y_test = np.array(test_arr[:, 0], dtype=np.float).astype(np.int64)    # cannot cast directly into int64\n",
        "    n_samples_test = X_test.shape[0]"
      ],
      "execution_count": null,
      "outputs": []
    },
    {
      "cell_type": "code",
      "metadata": {
        "id": "7QLsE6yLi0uK",
        "colab": {
          "base_uri": "https://localhost:8080/"
        },
        "outputId": "a2b094ad-c773-4e41-d9bd-71a9ca2cd897"
      },
      "source": [
        "# check dimensions\n",
        "print('X_train dimensions: {}'.format(X_train.shape), end='\\n')\n",
        "print('Y_train dimensions: {}'.format(Y_train.shape), end='\\n')\n",
        "assert X_train.shape[0] == Y_train.shape[0]\n",
        "\n",
        "print('X_test  dimensions: {}'.format(X_test.shape), end='\\n')\n",
        "print('Y_test  dimensions: {}'.format(Y_test.shape), end='\\n\\n')\n",
        "assert X_test.shape[0] == Y_test.shape[0]\n",
        "\n",
        "print('n_samples_train = {}'.format(n_samples_train))\n",
        "print('n_samples_test = {}'.format(n_samples_test))\n",
        "print('n_features = {}'.format(n_features))"
      ],
      "execution_count": null,
      "outputs": [
        {
          "output_type": "stream",
          "name": "stdout",
          "text": [
            "X_train dimensions: (7291, 256)\n",
            "Y_train dimensions: (7291,)\n",
            "X_test  dimensions: (2007, 256)\n",
            "Y_test  dimensions: (2007,)\n",
            "\n",
            "n_samples_train = 7291\n",
            "n_samples_test = 2007\n",
            "n_features = 256\n"
          ]
        }
      ]
    },
    {
      "cell_type": "markdown",
      "metadata": {
        "id": "anu8QTXo7pmT"
      },
      "source": [
        "### Step 2: Plot 131th sample digit"
      ]
    },
    {
      "cell_type": "code",
      "metadata": {
        "id": "QcNtRyV3lCl4",
        "colab": {
          "base_uri": "https://localhost:8080/",
          "height": 281
        },
        "outputId": "71f6e5bb-086c-46f6-a37b-dfb62568a56a"
      },
      "source": [
        "lib.show_sample(X_train, 131)"
      ],
      "execution_count": null,
      "outputs": [
        {
          "output_type": "display_data",
          "data": {
            "image/png": "[encoded data removed]",
            "text/plain": [
              "<Figure size 432x288 with 1 Axes>"
            ]
          },
          "metadata": {
            "needs_background": "light"
          }
        }
      ]
    },
    {
      "cell_type": "markdown",
      "metadata": {
        "id": "LktvxnHp9z4D"
      },
      "source": [
        "### Step 3: Samples Subplots"
      ]
    },
    {
      "cell_type": "code",
      "metadata": {
        "id": "sxpefRwAA9Q7",
        "colab": {
          "base_uri": "https://localhost:8080/",
          "height": 158
        },
        "outputId": "854e7d33-9cad-40cc-cb05-d72e79d1ec36"
      },
      "source": [
        "# first random choice\n",
        "lib.plot_digits_samples(X_train, Y_train)"
      ],
      "execution_count": null,
      "outputs": [
        {
          "output_type": "display_data",
          "data": {
            "image/png": "[encoded data removed]",
            "text/plain": [
              "<Figure size 1440x1440 with 10 Axes>"
            ]
          },
          "metadata": {
            "needs_background": "light"
          }
        }
      ]
    },
    {
      "cell_type": "code",
      "metadata": {
        "id": "z6QMlyRPGNl2",
        "colab": {
          "base_uri": "https://localhost:8080/",
          "height": 158
        },
        "outputId": "a15b6301-e157-46d7-dcaf-7ae1d0f752da"
      },
      "source": [
        "# and a second random choice\n",
        "lib.plot_digits_samples(X_train, Y_train)"
      ],
      "execution_count": null,
      "outputs": [
        {
          "output_type": "display_data",
          "data": {
            "image/png": "[encoded data removed]",
            "text/plain": [
              "<Figure size 1440x1440 with 10 Axes>"
            ]
          },
          "metadata": {
            "needs_background": "light"
          }
        }
      ]
    },
    {
      "cell_type": "markdown",
      "metadata": {
        "id": "XTniLdhhNy16"
      },
      "source": [
        "### Step 4: Mean at Pixel"
      ]
    },
    {
      "cell_type": "code",
      "metadata": {
        "id": "mkCSlE9BPJ8W",
        "colab": {
          "base_uri": "https://localhost:8080/"
        },
        "outputId": "eb852526-b654-4468-84fa-50b5d4ea5a76"
      },
      "source": [
        "mean = lib.digit_mean_at_pixel(X_train, Y_train, 0, 16, (10,10))\n",
        "print(\"Mean of (10,10) pixels for digit 0: {}\".format(mean))"
      ],
      "execution_count": null,
      "outputs": [
        {
          "output_type": "stream",
          "name": "stdout",
          "text": [
            "Mean of (10,10) pixels for digit 0: -0.5041884422110553\n"
          ]
        }
      ]
    },
    {
      "cell_type": "markdown",
      "metadata": {
        "id": "hrDrny4fRwa-"
      },
      "source": [
        "### Step 5: Variance at Pixel"
      ]
    },
    {
      "cell_type": "code",
      "metadata": {
        "id": "Fq1ySUkdPcHE",
        "colab": {
          "base_uri": "https://localhost:8080/"
        },
        "outputId": "d7d870d9-bb01-4c1d-a811-639cf4e1e98a"
      },
      "source": [
        "var = lib.digit_variance_at_pixel(X_train, Y_train, 0, 16, (10,10))\n",
        "print(\"Variance of (10,10) pixels for digit 0: {}\".format(var))"
      ],
      "execution_count": null,
      "outputs": [
        {
          "output_type": "stream",
          "name": "stdout",
          "text": [
            "Variance of (10,10) pixels for digit 0: 0.5249618093885184\n"
          ]
        }
      ]
    },
    {
      "cell_type": "markdown",
      "metadata": {
        "id": "mb0uGgk_SBuL"
      },
      "source": [
        "### Step 6: Digit Mean and Variance"
      ]
    },
    {
      "cell_type": "code",
      "metadata": {
        "id": "thSvgyHYTcsc"
      },
      "source": [
        "mean_array_0 = lib.digit_mean(X_train, Y_train, 0, 16, 16)\n",
        "var_array_0  = lib.digit_variance(X_train, Y_train, 0, 16, 16)"
      ],
      "execution_count": null,
      "outputs": []
    },
    {
      "cell_type": "markdown",
      "metadata": {
        "id": "EwI1laOXZvqz"
      },
      "source": [
        "### Step 7 & 8: Mean and Variance Plots"
      ]
    },
    {
      "cell_type": "code",
      "metadata": {
        "id": "OGimxrbFZ_hi",
        "colab": {
          "base_uri": "https://localhost:8080/",
          "height": 258
        },
        "outputId": "403e03a9-2875-41ef-d9a3-9586cd0fa322"
      },
      "source": [
        "fig, ax = plt.subplots(1, 2, figsize = (7,10))\n",
        "ax[0].imshow(mean_array_0.reshape((16,16)), cmap = 'gray')\n",
        "ax[0].set_title('Samples of Digit 0: Mean')\n",
        "ax[1].imshow(var_array_0.reshape((16,16)), cmap = 'gray')\n",
        "ax[1].set_title('Samples of Digit 0: Variance')"
      ],
      "execution_count": null,
      "outputs": [
        {
          "output_type": "execute_result",
          "data": {
            "text/plain": [
              "Text(0.5, 1.0, 'Samples of Digit 0: Variance')"
            ]
          },
          "metadata": {},
          "execution_count": 11
        },
        {
          "output_type": "display_data",
          "data": {
            "image/png": "[encoded data removed]",
            "text/plain": [
              "<Figure size 504x720 with 2 Axes>"
            ]
          },
          "metadata": {
            "needs_background": "light"
          }
        }
      ]
    },
    {
      "cell_type": "markdown",
      "metadata": {
        "id": "6Wj9vKAqafIC"
      },
      "source": [
        "### Step 9: Mean and Variance for all Digits"
      ]
    },
    {
      "cell_type": "code",
      "metadata": {
        "id": "Y6R7BQ3MaHMx",
        "colab": {
          "base_uri": "https://localhost:8080/",
          "height": 158
        },
        "outputId": "661089e6-01b1-4a57-c838-434f26e9bd63"
      },
      "source": [
        "# (a) calculations\n",
        "means = [lib.digit_mean(X_train, Y_train, i, 16, 16) for i in range(10)]\n",
        "means = np.array(means)\n",
        "vars = [lib.digit_variance(X_train, Y_train, i, 16, 16) for i in range(10)]\n",
        "vars = np.array(vars)\n",
        "\n",
        "# (b) plots\n",
        "labels = np.array([i for i in range(10)])\n",
        "lib.plot_digits_samples(means, labels)"
      ],
      "execution_count": null,
      "outputs": [
        {
          "output_type": "display_data",
          "data": {
            "image/png": "[encoded data removed]",
            "text/plain": [
              "<Figure size 1440x1440 with 10 Axes>"
            ]
          },
          "metadata": {
            "needs_background": "light"
          }
        }
      ]
    },
    {
      "cell_type": "markdown",
      "metadata": {
        "id": "SbgRQR2VdpXm"
      },
      "source": [
        "### Step 10: Classification of the 101th sample"
      ]
    },
    {
      "cell_type": "code",
      "metadata": {
        "id": "rmLT78iKcZup",
        "colab": {
          "base_uri": "https://localhost:8080/"
        },
        "outputId": "d6fa3cde-af30-4aad-a05c-d7cecc130a6d"
      },
      "source": [
        "# we know that the 101th sample is a 6 a priori\n",
        "sample_digit = X_test[101]\n",
        "\n",
        "dist = np.inf\n",
        "classified = -1\n",
        "for i in range(10):\n",
        "    new_dist = lib.euclidean_distance(sample_digit, means[i])\n",
        "    if dist > new_dist:\n",
        "        dist = new_dist\n",
        "        classified = i\n",
        "\n",
        "print('Sample digit No 101 is classified as a {}'.format(classified))"
      ],
      "execution_count": null,
      "outputs": [
        {
          "output_type": "stream",
          "name": "stdout",
          "text": [
            "Sample digit No 101 is classified as a 0\n"
          ]
        }
      ]
    },
    {
      "cell_type": "markdown",
      "metadata": {
        "id": "OCc6ltfzpVKV"
      },
      "source": [
        "### Step 11: Euclidean Distance Classification"
      ]
    },
    {
      "cell_type": "code",
      "metadata": {
        "id": "HSFwYdiPrhXH",
        "colab": {
          "base_uri": "https://localhost:8080/"
        },
        "outputId": "8838aa55-af5d-4737-8669-0860c0bd7fd2"
      },
      "source": [
        "# (a) classify all digits using Euclidean Distance\n",
        "eucl_classification = lib.euclidean_distance_classifier(X_test, means)\n",
        "\n",
        "# (b) \n",
        "# calculate the real classifications\n",
        "digit_table = [[],[],[],[],[],[],[],[],[],[]]\n",
        "for index, digit_class in enumerate(Y_test):\n",
        "    digit_table[digit_class].append(index)\n",
        "\n",
        "# calculate how many of them are correct\n",
        "counter = 0\n",
        "for index, classification in enumerate(eucl_classification):\n",
        "    if index in digit_table[classification]:\n",
        "        counter += 1\n",
        "\n",
        "success_rate = np.around(float(counter/X_test.shape[0])*100, 2)\n",
        "print('Success rate for Euclidean Classification is: {}%'.format(success_rate))"
      ],
      "execution_count": null,
      "outputs": [
        {
          "output_type": "stream",
          "name": "stdout",
          "text": [
            "Success rate for Euclidean Classification is: 81.42%\n"
          ]
        }
      ]
    },
    {
      "cell_type": "markdown",
      "metadata": {
        "id": "njZOpM4UthdM"
      },
      "source": [
        "### Step 12: Scikit-Learn Estimator"
      ]
    },
    {
      "cell_type": "code",
      "metadata": {
        "id": "4Gv7jolSuaUY",
        "colab": {
          "base_uri": "https://localhost:8080/"
        },
        "outputId": "7fa79de9-7826-417b-cf9f-7e861e99b729"
      },
      "source": [
        "# first we implement the scikit-ish estimator in lib.py\n",
        "eucl_classifier = lib.EuclideanDistanceClassifier(16, 16)\n",
        "eucl_classifier.fit(X_train, Y_train)\n",
        "print(eucl_classifier.score(X_test, Y_test))"
      ],
      "execution_count": null,
      "outputs": [
        {
          "output_type": "stream",
          "name": "stdout",
          "text": [
            "0.8141504733432985\n"
          ]
        }
      ]
    },
    {
      "cell_type": "markdown",
      "metadata": {
        "id": "0huw-zL92Zj5"
      },
      "source": [
        "### Step 13: Evaluation and Statistics"
      ]
    },
    {
      "cell_type": "code",
      "metadata": {
        "colab": {
          "base_uri": "https://localhost:8080/"
        },
        "id": "x9wpU3rm4Ffn",
        "outputId": "bdb70497-c959-434b-c18a-e85af9c36eea"
      },
      "source": [
        "# (a) evaluation: 5-fold cross validation\n",
        "\n",
        "# in order to not print warnings irrelevant to our work\n",
        "import warnings\n",
        "warnings.filterwarnings(\"ignore\")\n",
        "\n",
        "scores = lib.evaluate_classifier(eucl_classifier, X_train, Y_train, folds=5)\n",
        "print(\"CV error = %f +-%f\" % (1. - np.mean(scores), np.std(scores)))"
      ],
      "execution_count": null,
      "outputs": [
        {
          "output_type": "stream",
          "name": "stdout",
          "text": [
            "CV error = 0.151420 +-0.001816\n"
          ]
        }
      ]
    },
    {
      "cell_type": "code",
      "metadata": {
        "colab": {
          "base_uri": "https://localhost:8080/",
          "height": 298
        },
        "id": "U00I1-3CJT1G",
        "outputId": "e59b9870-64e7-4cd1-819d-106c4e4bf5f1"
      },
      "source": [
        "# (b) decision boundary plot\n",
        "# apply PCA to reduce dimensionality\n",
        "# we expect the classification accuracy to\n",
        "# deviate from its initial value\n",
        "\n",
        "from sklearn.decomposition import PCA\n",
        "from mlxtend.plotting import plot_decision_regions\n",
        "\n",
        "# reduce dimensionality\n",
        "pca = PCA(n_components=2)\n",
        "X_reduced = pca.fit_transform(X_train)\n",
        "\n",
        "# train model with reduced dimensions\n",
        "model = lib.EuclideanDistanceClassifier(2,1)\n",
        "\n",
        "# score\n",
        "model.fit(X_reduced, Y_train)\n",
        "model_score = model.score(X_reduced, Y_train)\n",
        "print(\"Reduced dimensionality model accuracy {}\".format(model_score))\n",
        "\n",
        "# plot decision boundaries\n",
        "fig = plt.figure()\n",
        "fig = plot_decision_regions(X=X_reduced[200:500], y=Y_train[200:500], clf=model, legend=2)\n",
        "plt.title(\"Decision Boundary of Classifier\")\n",
        "plt.show()"
      ],
      "execution_count": null,
      "outputs": [
        {
          "output_type": "stream",
          "name": "stdout",
          "text": [
            "Reduced dimensionality model accuracy 0.5504046084213414\n"
          ]
        },
        {
          "output_type": "display_data",
          "data": {
            "image/png": "[encoded data removed]",
            "text/plain": [
              "<Figure size 432x288 with 1 Axes>"
            ]
          },
          "metadata": {
            "needs_background": "light"
          }
        }
      ]
    },
    {
      "cell_type": "code",
      "metadata": {
        "id": "1gwppRc2dKgS"
      },
      "source": [
        "# (c) plot learning curve\n",
        "# Notice: with 'np.linspace(.1, 1.0, 10)' takes 3m 16s\n",
        "# For quicker results, run with 'np.linspace(.1, 1.0, 5)'\n",
        "\n",
        "from sklearn.model_selection import learning_curve\n",
        "\n",
        "train_sizes, train_scores, test_scores = learning_curve(\n",
        "    eucl_classifier, X_train, Y_train, cv=5, n_jobs=-1, \n",
        "    train_sizes=np.linspace(.1, 1.0, 10, endpoint=True))\n"
      ],
      "execution_count": null,
      "outputs": []
    },
    {
      "cell_type": "code",
      "metadata": {
        "id": "-rKTKaeNbOUz",
        "colab": {
          "base_uri": "https://localhost:8080/",
          "height": 312
        },
        "outputId": "55ca04c0-1867-428c-c93b-6797c243ab69"
      },
      "source": [
        "def plot_learning_curve(train_scores, test_scores, train_sizes, ylim=(0, 1)):\n",
        "    plt.figure()\n",
        "    plt.title(\"Learning Curve\")\n",
        "    if ylim is not None:\n",
        "        plt.ylim(*ylim)\n",
        "    plt.xlabel(\"Training examples\")\n",
        "    plt.ylabel(\"Score\")\n",
        "\n",
        "    train_scores_mean = np.mean(train_scores, axis=1)\n",
        "    train_scores_std = np.std(train_scores, axis=1)\n",
        "    test_scores_mean = np.mean(test_scores, axis=1)\n",
        "    test_scores_std = np.std(test_scores, axis=1)\n",
        "\n",
        "    # Problem: train_scores[0][0] = test_scores[0][0] = nan\n",
        "    # Solution:  use only the other 4 measurements to calculate mean/std of [0]\n",
        "    # Yet: don't know why?\n",
        "    train_scores_mean[0] = np.mean(train_scores[0, 1:])\n",
        "    train_scores_std[0] = np.std(train_scores[0, 1:])\n",
        "    test_scores_mean[0] = np.mean(test_scores[0, 1:])\n",
        "    test_scores_std[0] = np.std(test_scores[0, 1:])\n",
        "\n",
        "    plt.grid()\n",
        "\n",
        "    plt.fill_between(train_sizes, train_scores_mean - train_scores_std,\n",
        "                     train_scores_mean + train_scores_std, alpha=0.1,\n",
        "                     color=\"r\")\n",
        "    plt.fill_between(train_sizes, test_scores_mean - test_scores_std,\n",
        "                     test_scores_mean + test_scores_std, alpha=0.1, color=\"g\")\n",
        "    plt.plot(train_sizes, train_scores_mean, 'o-', color=\"r\",\n",
        "             label=\"Training score\")\n",
        "    plt.plot(train_sizes, test_scores_mean, 'o-', color=\"g\",\n",
        "             label=\"Cross-validation score\")\n",
        "\n",
        "    plt.legend(loc=\"best\")\n",
        "    return plt\n",
        "\n",
        "plot_learning_curve(train_scores, test_scores, train_sizes, ylim=(.7, 1))"
      ],
      "execution_count": null,
      "outputs": [
        {
          "output_type": "execute_result",
          "data": {
            "text/plain": [
              "<module 'matplotlib.pyplot' from '/usr/local/lib/python3.7/dist-packages/matplotlib/pyplot.py'>"
            ]
          },
          "metadata": {},
          "execution_count": 19
        },
        {
          "output_type": "display_data",
          "data": {
            "image/png": "[encoded data removed]",
            "text/plain": [
              "<Figure size 432x288 with 1 Axes>"
            ]
          },
          "metadata": {
            "needs_background": "light"
          }
        }
      ]
    },
    {
      "cell_type": "markdown",
      "metadata": {
        "id": "4vrdE3X6w8dw"
      },
      "source": [
        "## Main Lab"
      ]
    },
    {
      "cell_type": "markdown",
      "metadata": {
        "id": "vFl6cRpPYy_Z"
      },
      "source": [
        "###Step 14: A-priori Probabilities"
      ]
    },
    {
      "cell_type": "code",
      "metadata": {
        "id": "XKg_BrTUaNPb",
        "colab": {
          "base_uri": "https://localhost:8080/"
        },
        "outputId": "21455f5d-2979-42b5-e687-d3602519ff24"
      },
      "source": [
        "priors = lib.calculate_priors(X_train, Y_train)\n",
        "print(priors)\n",
        "print(sum(priors))"
      ],
      "execution_count": null,
      "outputs": [
        {
          "output_type": "stream",
          "name": "stdout",
          "text": [
            "[0.16376354 0.13784117 0.1002606  0.09024825 0.08942532 0.0762584\n",
            " 0.09107118 0.08846523 0.07433823 0.08832808]\n",
            "1.0\n"
          ]
        }
      ]
    },
    {
      "cell_type": "markdown",
      "metadata": {
        "id": "5ZVRHTthd4Hy"
      },
      "source": [
        "###Step 15: Naive Bayesian Classifier explicit implementation"
      ]
    },
    {
      "cell_type": "markdown",
      "metadata": {
        "id": "2zZZcBJ8h8NS"
      },
      "source": [
        "Bayes classifier classifies data into the most probable class, meaning \\\\\n",
        "the class that maximizes the following probability:\n",
        "\n",
        "$$\n",
        "    \\mathcal{P}(y|\\vec{x}) = \\frac{\\mathcal{P}(y)\\cdot \\mathcal{P}(\\vec{x}|y)}{P{(\\vec{x})}} = \\frac{\\mathcal{P}(y)\\cdot \\mathcal{P}(x_1,x_2,\\dots,x_n|y)}{P{(x_1,x_2,\\dots,x_n)}}\n",
        "$$\n",
        "\n",
        "Assuming independency among the particular variables $x_1,x_2,\\dots,x_n$, therefore rendering our classifier $\\textit{naive}$, the above probability equals:\n",
        "\n",
        "$$\n",
        "    \\mathcal{P}(y|x_1,\\dots,x_n) = \\frac{\\mathcal{P}(y)\\cdot \\mathcal{P}(x_1|y)\\cdot\\mathcal{P}(x_2|y) \\cdots \\mathcal{P}(x_n|y)}{P{(x_1,x_2,\\dots,x_n)}}\n",
        "$$\n",
        "\n",
        "So, in order to classify a datum $\\vec{x} = (x_1,x_1,\\dots,x_n)$ we need to calculate the above probabilities for every class $y$ and choose the maximum one. Clearly, the denominator $\\mathcal{P}(x_1,x_2,\\dots,x_n)$ does not make any difference in this procedure, so its calculation can be omitted.\n",
        "\n",
        "To sum up, our model consists of:\n",
        "\n",
        "$\\bullet$ prior probabilites $\\mathcal{P}(y)$, calculated directly by counting\n",
        "\n",
        "$\\bullet$ conditional probabilities $\\mathcal{P}(x_i|y)$\n",
        "\n",
        "Given that the pixels are numerical variables we assume that $\\textit{each conditional probability}$ follows a Gaussian distribution.\n",
        "\n",
        "We remind that: $$\\mathcal{N}(\\mu,\\sigma) = \\frac{1}{\\sigma\\sqrt{2\\pi}}exp\\Big[-\\frac{1}{2}\\Big(\\frac{x-\\mu}{\\sigma}\\Big)^2\\Big]$$\n"
      ]
    },
    {
      "cell_type": "code",
      "metadata": {
        "colab": {
          "base_uri": "https://localhost:8080/"
        },
        "id": "S0ziU-GeC4NG",
        "outputId": "a6f9b7d4-448d-4735-c50b-340af11e3fdb"
      },
      "source": [
        "# (a) Custom Naive Bayes classification\n",
        "\n",
        "NB_classifier = lib.CustomNBClassifier(use_unit_variance = False)\n",
        "NB_classifier.fit(X_train, Y_train)\n",
        "NB_pred = NB_classifier.predict(X_test)\n",
        "print(NB_pred[97:111])\n",
        "print(Y_train[97:111])"
      ],
      "execution_count": null,
      "outputs": [
        {
          "output_type": "stream",
          "name": "stdout",
          "text": [
            "[0 0 9 0 2 7 8 0 7 2 9 9 9 3]\n",
            "[0 4 6 8 0 0 3 0 8 0 9 0 3 8]\n"
          ]
        }
      ]
    },
    {
      "cell_type": "code",
      "metadata": {
        "colab": {
          "base_uri": "https://localhost:8080/"
        },
        "id": "wj2euHQD6E9d",
        "outputId": "e38a612a-b845-4e1c-f07b-9f84ebf5c2f2"
      },
      "source": [
        "# (b) classification score\n",
        "\n",
        "NB_score = NB_classifier.score(X_test, Y_test)\n",
        "print(\"Custom Gaussian Naive Bayes classifier accuracy: {}%\".format(np.round(NB_score*100, 2)))"
      ],
      "execution_count": null,
      "outputs": [
        {
          "output_type": "stream",
          "name": "stdout",
          "text": [
            "Custom Gaussian Naive Bayes classifier accuracy: 71.9%\n"
          ]
        }
      ]
    },
    {
      "cell_type": "code",
      "metadata": {
        "id": "lO8oC4GjsVXB",
        "colab": {
          "base_uri": "https://localhost:8080/"
        },
        "outputId": "cf4abf5d-2f42-45e6-d36a-1d0befb50f46"
      },
      "source": [
        "# (c) Comparison with Scikit-learn's classifier\n",
        "from sklearn.naive_bayes import GaussianNB\n",
        "\n",
        "SK_GaussianNB = GaussianNB()\n",
        "SK_GaussianNB.fit(X_train, Y_train)\n",
        "#SK_GaussianNB_pred = SK_GaussianNB.predict(X_train)\n",
        "\n",
        "SK_GaussianNB_score = SK_GaussianNB.score(X_test, Y_test)\n",
        "print(\"Scikit's Gaussian Naive Bayes classifier accuracy: {}%\".format(np.round(SK_GaussianNB_score*100, 2)))      "
      ],
      "execution_count": null,
      "outputs": [
        {
          "output_type": "stream",
          "name": "stdout",
          "text": [
            "Scikit's Gaussian Naive Bayes classifier accuracy: 71.95%\n"
          ]
        }
      ]
    },
    {
      "cell_type": "markdown",
      "metadata": {
        "id": "9RmVpnt4HFM3"
      },
      "source": [
        "### Step 16: Unit Variance"
      ]
    },
    {
      "cell_type": "code",
      "metadata": {
        "colab": {
          "base_uri": "https://localhost:8080/"
        },
        "id": "2CCL2KB_FTbs",
        "outputId": "ee67d27d-f5aa-4928-cc1a-c6e2bd554046"
      },
      "source": [
        "NB_classifier = lib.CustomNBClassifier(use_unit_variance = True)\n",
        "NB_classifier.fit(X_train, Y_train)\n",
        "\n",
        "NB_score = NB_classifier.score(X_test, Y_test)\n",
        "print(\"Custom Gaussian Naive Bayes (unit variance) classifier accuracy: {}%\".format(np.round(NB_score*100, 2)))"
      ],
      "execution_count": null,
      "outputs": [
        {
          "output_type": "stream",
          "name": "stdout",
          "text": [
            "Custom Gaussian Naive Bayes (unit variance) classifier accuracy: 81.27%\n"
          ]
        }
      ]
    },
    {
      "cell_type": "markdown",
      "metadata": {
        "id": "RCBjb8RCHRDN"
      },
      "source": [
        "### Step 17: Comparing Naive Bayes, Nearest Neighbors, SVM"
      ]
    },
    {
      "cell_type": "code",
      "metadata": {
        "id": "bN5aKlsPHP4L",
        "colab": {
          "base_uri": "https://localhost:8080/"
        },
        "outputId": "69b97c17-b1df-42f1-af06-9728c7c3d41e"
      },
      "source": [
        "# implementations in lib.py\n",
        "\n",
        "\n",
        "# Euclidean Classifier (NB subcase, var=1)\n",
        "euclidean_score = np.round(lib.evaluate_euclidean_classifier(X_train, Y_train, folds=5)*100,2)\n",
        "\n",
        "# Naive Bayes Implementations\n",
        "custom_NaiveBayes_score = np.round(lib.evaluate_custom_nb_classifier(X_train, Y_train, folds=5,use_unit_variance=False)*100,2)\n",
        "custom_NaiveBayes_score_unit = np.round(lib.evaluate_custom_nb_classifier(X_train, Y_train, folds=5,use_unit_variance=True)*100,2)\n",
        "sklearn_NB_score = np.round(lib.evaluate_sklearn_nb_classifier(X_train, Y_train, folds=5)*100,2)\n",
        "\n",
        "# SVM Classifier\n",
        "svm_linear_score = np.round(lib.evaluate_linear_svm_classifier(X_train, Y_train, folds=5)*100,2)\n",
        "svm_rbf_score = np.round(lib.evaluate_rbf_svm_classifier(X_train, Y_train, folds=5)*100,2)\n",
        "\n",
        "# K Nearest Neighbours Classifier\n",
        "KNN_3_score = np.round(lib.evaluate_knn_classifier(X_train, Y_train, folds=5, neighbors = 3)*100,2)\n",
        "KNN_5_score = np.round(lib.evaluate_knn_classifier(X_train, Y_train, folds=5, neighbors = 5)*100,2)\n",
        "\n",
        "\n",
        "print (f\"{'Euclidean Distance Classifier Score:':<50}{euclidean_score:<40}\")\n",
        "print (f\"{'Custom NB Classifier Score (No Unit Variance):':<50}{custom_NaiveBayes_score:<40}\")\n",
        "print (f\"{'Custom NB Classifier Score (Unit Variance):':<50}{custom_NaiveBayes_score_unit:<40}\")\n",
        "print (f\"{'sklearn Gaussian NB Classifier Score:':<50}{sklearn_NB_score:<40}\")\n",
        "print (f\"{'SVM Classifier Score (Linear Kernel):':<50}{svm_linear_score:<40}\")\n",
        "print (f\"{'SVM Classifier Score (rbf kernel):':<50}{svm_rbf_score:<40}\")\n",
        "print (f\"{'KNN Classifier (3 neighbors) Score:':<50}{KNN_3_score:<40}\")\n",
        "print (f\"{'KNN Classifier (5 neighbors) Score:':<50}{KNN_5_score:<40}\")"
      ],
      "execution_count": null,
      "outputs": [
        {
          "output_type": "stream",
          "name": "stdout",
          "text": [
            "Euclidean Distance Classifier Score:              84.86                                   \n",
            "Custom NB Classifier Score (No Unit Variance):    74.89                                   \n",
            "Custom NB Classifier Score (Unit Variance):       84.83                                   \n",
            "sklearn Gaussian NB Classifier Score:             74.83                                   \n",
            "SVM Classifier Score (Linear Kernel):             95.25                                   \n",
            "SVM Classifier Score (rbf kernel):                97.63                                   \n",
            "KNN Classifier (3 neighbors) Score:               96.39                                   \n",
            "KNN Classifier (5 neighbors) Score:               95.99                                   \n"
          ]
        }
      ]
    },
    {
      "cell_type": "markdown",
      "metadata": {
        "id": "-XnVQq7kPtR1"
      },
      "source": [
        "### Step 18: Ensembling Classifiers"
      ]
    },
    {
      "cell_type": "code",
      "metadata": {
        "id": "LjMKJ6svUjyD"
      },
      "source": [
        "# Function that finds mostly mispredicted digits for certain model\n",
        "def mispredictions(model, X_train, Y_train):\n",
        "    model.fit(X_train, Y_train)\n",
        "    predictions = model.predict(X_train)\n",
        "\n",
        "    mispredict_per_digit = np.zeros(10) #array of mispredictions per digit\n",
        "    test_samples = len(Y_train)\n",
        "    for i in range(test_samples):\n",
        "        if not Y_train[i] == predictions[i]: # misprediction occured\n",
        "            mispredict_per_digit[int(Y_train[i])] = mispredict_per_digit[int(Y_train[i])] + 1\n",
        "    \n",
        "  \n",
        "    top_mispredictions = np.argsort(mispredict_per_digit)[::-1] # sort digits that are mostly mispredicted\n",
        "\n",
        "    return mispredict_per_digit, top_mispredictions"
      ],
      "execution_count": null,
      "outputs": []
    },
    {
      "cell_type": "markdown",
      "metadata": {
        "id": "l2kGoakTPg3N"
      },
      "source": [
        "Then, for each model we find its mostly mispredicted digits."
      ]
    },
    {
      "cell_type": "code",
      "metadata": {
        "colab": {
          "base_uri": "https://localhost:8080/"
        },
        "id": "ZKTHj3qJPnsA",
        "outputId": "9c570f07-c110-4b6e-9df1-5ae0ac2f87af"
      },
      "source": [
        "# Euclidean Distance Classifier\n",
        "model = lib.EuclideanDistanceClassifier(x_dim=256, y_dim=1)\n",
        "mispredict_per_digit, top_mispredictions = mispredictions(model, X_train, Y_train)\n",
        "print('Euclidean Distance Classifier:')\n",
        "print (f\"{' Mispredictions per Digit:':<50}{str(mispredict_per_digit):<40}\")\n",
        "print (f\"{' Top Digits Mispredicted:':<50}{str(top_mispredictions):<40}\")"
      ],
      "execution_count": null,
      "outputs": [
        {
          "output_type": "stream",
          "name": "stdout",
          "text": [
            "Euclidean Distance Classifier:\n",
            " Mispredictions per Digit:                        [195.   4. 145.  80. 132. 116.  95. 105.  88. 124.]\n",
            " Top Digits Mispredicted:                         [0 2 4 9 5 7 6 8 3 1]                   \n"
          ]
        }
      ]
    },
    {
      "cell_type": "code",
      "metadata": {
        "colab": {
          "base_uri": "https://localhost:8080/"
        },
        "id": "9c0LY739N25b",
        "outputId": "b25ac981-aaf6-4a60-b379-b707c3ae82ac"
      },
      "source": [
        "# Custom Gaussian NB Classifier (No Unit Variance)\n",
        "model = lib.CustomNBClassifier(use_unit_variance=False)\n",
        "mispredict_per_digit, top_mispredictions = mispredictions(model, X_train, Y_train)\n",
        "print('Custom NB Classifier (No Unit Variance):')\n",
        "print (f\"{' Mispredictions per Digit:':<50}{str(mispredict_per_digit):<40}\")\n",
        "print (f\"{' Top Digits Mispredicted:':<50}{str(top_mispredictions):<40}\")"
      ],
      "execution_count": null,
      "outputs": [
        {
          "output_type": "stream",
          "name": "stdout",
          "text": [
            "Custom NB Classifier (No Unit Variance):\n",
            " Mispredictions per Digit:                        [180.   7. 148. 275. 465. 322.  49.  49. 182.  78.]\n",
            " Top Digits Mispredicted:                         [4 5 3 8 0 2 9 7 6 1]                   \n"
          ]
        }
      ]
    },
    {
      "cell_type": "code",
      "metadata": {
        "colab": {
          "base_uri": "https://localhost:8080/"
        },
        "id": "5mQIA8wKP6JS",
        "outputId": "61b607ca-9900-40cc-cf7b-d2ee6520c4cb"
      },
      "source": [
        "# Custom Gaussian NB Classifier (Unit Variance)\n",
        "model = lib.CustomNBClassifier(use_unit_variance=True)\n",
        "mispredict_per_digit, top_mispredictions = mispredictions(model, X_train, Y_train)\n",
        "print('Custom NB Classifier (Unit Variance):')\n",
        "print (f\"{' Mispredictions per Digit:':<50}{str(mispredict_per_digit):<40}\")\n",
        "print (f\"{' Top Digits Mispredicted:':<50}{str(top_mispredictions):<40}\")"
      ],
      "execution_count": null,
      "outputs": [
        {
          "output_type": "stream",
          "name": "stdout",
          "text": [
            "Custom NB Classifier (Unit Variance):\n",
            " Mispredictions per Digit:                        [190.   4. 144.  80. 133. 119.  93. 105.  90. 125.]\n",
            " Top Digits Mispredicted:                         [0 2 4 9 5 7 6 8 3 1]                   \n"
          ]
        }
      ]
    },
    {
      "cell_type": "code",
      "metadata": {
        "colab": {
          "base_uri": "https://localhost:8080/"
        },
        "id": "_TPy1dB7QJZv",
        "outputId": "d49ff679-6406-4a18-fc25-d98ad2de04af"
      },
      "source": [
        "# scikit-learn Gaussian NB Classifier\n",
        "model = GaussianNB()\n",
        "mispredict_per_digit, top_mispredictions = mispredictions(model, X_train, Y_train)\n",
        "print('scikit-learn NB Classifier:')\n",
        "print (f\"{' Mispredictions per Digit:':<50}{str(mispredict_per_digit):<40}\")\n",
        "print (f\"{' Top Digits Mispredicted:':<50}{str(top_mispredictions):<40}\")"
      ],
      "execution_count": null,
      "outputs": [
        {
          "output_type": "stream",
          "name": "stdout",
          "text": [
            "scikit-learn NB Classifier:\n",
            " Mispredictions per Digit:                        [183.   8. 148. 274. 465. 323.  49.  48. 184.  77.]\n",
            " Top Digits Mispredicted:                         [4 5 3 8 0 2 9 6 7 1]                   \n"
          ]
        }
      ]
    },
    {
      "cell_type": "code",
      "metadata": {
        "colab": {
          "base_uri": "https://localhost:8080/"
        },
        "id": "DlLEyLksQ6cb",
        "outputId": "ac9653d7-fcb8-4937-b9ac-4d6dc0d057e5"
      },
      "source": [
        "# SVM (linear kernel)\n",
        "model = SVC(kernel='linear')\n",
        "mispredict_per_digit, top_mispredictions = mispredictions(model, X_train, Y_train)\n",
        "print('SVM (linear kernel) Classifier:')\n",
        "print (f\"{' Mispredictions per Digit:':<50}{str(mispredict_per_digit):<40}\")\n",
        "print (f\"{' Top Digits Mispredicted:':<50}{str(top_mispredictions):<40}\")"
      ],
      "execution_count": null,
      "outputs": [
        {
          "output_type": "stream",
          "name": "stdout",
          "text": [
            "SVM (linear kernel) Classifier:\n",
            " Mispredictions per Digit:                        [0. 0. 0. 0. 1. 0. 0. 0. 0. 0.]         \n",
            " Top Digits Mispredicted:                         [4 9 8 7 6 5 3 2 1 0]                   \n"
          ]
        }
      ]
    },
    {
      "cell_type": "code",
      "metadata": {
        "colab": {
          "base_uri": "https://localhost:8080/"
        },
        "id": "rH_-zV5YRxXM",
        "outputId": "65de5b51-5904-4661-81e4-e645589cd1d3"
      },
      "source": [
        "# SVM (rbf kernel)\n",
        "model = SVC(kernel='rbf')\n",
        "mispredict_per_digit, top_mispredictions = mispredictions(model, X_train, Y_train)\n",
        "print('SVM (rbf kernel) Classifier:')\n",
        "print (f\"{' Mispredictions per Digit:':<50}{str(mispredict_per_digit):<40}\")\n",
        "print (f\"{' Top Digits Mispredicted:':<50}{str(top_mispredictions):<40}\")"
      ],
      "execution_count": null,
      "outputs": [
        {
          "output_type": "stream",
          "name": "stdout",
          "text": [
            "SVM (rbf kernel) Classifier:\n",
            " Mispredictions per Digit:                        [0. 0. 7. 4. 4. 6. 7. 6. 8. 4.]         \n",
            " Top Digits Mispredicted:                         [8 6 2 7 5 9 4 3 1 0]                   \n"
          ]
        }
      ]
    },
    {
      "cell_type": "code",
      "metadata": {
        "colab": {
          "base_uri": "https://localhost:8080/"
        },
        "id": "ytC7gOrmRxgv",
        "outputId": "32a0f313-b60c-4484-944e-d8bf513ff398"
      },
      "source": [
        "# KNN (3 Neighbors)\n",
        "model = KNeighborsClassifier(n_neighbors=3)\n",
        "mispredict_per_digit, top_mispredictions = mispredictions(model, X_train, Y_train)\n",
        "print('KNN (3 Neighbors) Classifier:')\n",
        "print (f\"{' Mispredictions per Digit:':<50}{str(mispredict_per_digit):<40}\")\n",
        "print (f\"{' Top Digits Mispredicted:':<50}{str(top_mispredictions):<40}\")"
      ],
      "execution_count": null,
      "outputs": [
        {
          "output_type": "stream",
          "name": "stdout",
          "text": [
            "KNN (3 Neighbors) Classifier:\n",
            " Mispredictions per Digit:                        [ 3.  0. 15.  9. 16. 13.  8.  3. 20. 10.]\n",
            " Top Digits Mispredicted:                         [8 4 2 5 9 3 6 7 0 1]                   \n"
          ]
        }
      ]
    },
    {
      "cell_type": "code",
      "metadata": {
        "colab": {
          "base_uri": "https://localhost:8080/"
        },
        "id": "hDPa-zNIRxlz",
        "outputId": "ba2aee6f-bb1e-4825-a1c0-349bb25bf236"
      },
      "source": [
        "# KNN (5 Neighbors)\n",
        "model = KNeighborsClassifier(n_neighbors=5)\n",
        "mispredict_per_digit, top_mispredictions = mispredictions(model, X_train, Y_train)\n",
        "print('KNN (5 Neighbors) Classifier:')\n",
        "print (f\"{' Mispredictions per Digit:':<50}{str(mispredict_per_digit):<40}\")\n",
        "print (f\"{' Top Digits Mispredicted:':<50}{str(top_mispredictions):<40}\")"
      ],
      "execution_count": null,
      "outputs": [
        {
          "output_type": "stream",
          "name": "stdout",
          "text": [
            "KNN (5 Neighbors) Classifier:\n",
            " Mispredictions per Digit:                        [ 6.  1. 20. 11. 28. 23.  9. 11. 31. 12.]\n",
            " Top Digits Mispredicted:                         [8 4 5 2 9 7 3 6 0 1]                   \n"
          ]
        }
      ]
    },
    {
      "cell_type": "markdown",
      "metadata": {
        "id": "fl-QIJ_ITn5H"
      },
      "source": [
        "####18a. Voting Classifier"
      ]
    },
    {
      "cell_type": "markdown",
      "metadata": {
        "id": "btmmg6V5TzkD"
      },
      "source": [
        "Given the above observations, we combine classifiers **SVM (linear kernel)**, which mispredicts digit 4 only once, **KNN (3 Neighbors)**, which mostly mispredicts digit 8, using the *Soft Voting* Technique.\n",
        "\n",
        "As far as the *Hard Voting* Technique is concerned, an odd number of Classifiers should be used, so we also use the **SVM (rbf kernel)** classifier, which also tends to misclassify mostly digit 8 but with a much lesser frequency."
      ]
    },
    {
      "cell_type": "code",
      "metadata": {
        "id": "9q5_dTUNVueo"
      },
      "source": [
        "models = [('svm_lin',SVC(kernel='linear',probability=True)),\n",
        "               ('knn_3',KNeighborsClassifier(n_neighbors=3)),\n",
        "              ('svm_rbf',SVC(kernel='rbf',probability=True))]    "
      ],
      "execution_count": null,
      "outputs": []
    },
    {
      "cell_type": "code",
      "metadata": {
        "colab": {
          "base_uri": "https://localhost:8080/"
        },
        "id": "sZngaBJPV2h_",
        "outputId": "15b1c34d-5140-436c-c9aa-90da960e0e32"
      },
      "source": [
        "# 1st Experiment: SVM (linear kernel) + KNN (3 Neighbors)\n",
        "score = np.round(lib.evaluate_voting_classifier(models[0:2], X_train, Y_train, 5,'soft')*100,2)\n",
        "print(f\"{'1st Combination Voting Classifier (Soft Voting) Score:':<50}{score:<40}\") "
      ],
      "execution_count": null,
      "outputs": [
        {
          "output_type": "stream",
          "name": "stdout",
          "text": [
            "1st Combination Voting Classifier (Soft Voting) Score:97.22                                   \n"
          ]
        }
      ]
    },
    {
      "cell_type": "code",
      "metadata": {
        "colab": {
          "base_uri": "https://localhost:8080/"
        },
        "id": "f9TMp75ScH3G",
        "outputId": "aa434750-7831-4572-b133-94c9358e55b9"
      },
      "source": [
        "# 2nd Experiment: SVM (linear kernel) + KNN (3 Neighbors) + SVM (rbf kernel)\n",
        "hard_score = np.round(lib.evaluate_voting_classifier(models, X_train, Y_train, 5,'hard')*100, 2)\n",
        "print(f\"{'2nd Combination Voting Classifier (Hard Voting) Score:':<50}{hard_score:<40}\") \n",
        "\n",
        "soft_score = np.round(lib.evaluate_voting_classifier(models, X_train, Y_train, 5,'soft')*100, 2)\n",
        "print(f\"{'2nd Combination Voting Classifier (Soft Voting) Score:':<50}{soft_score:<40}\") "
      ],
      "execution_count": null,
      "outputs": [
        {
          "output_type": "stream",
          "name": "stdout",
          "text": [
            "2nd Combination Voting Classifier (Hard Voting) Score:97.52                                   \n",
            "2nd Combination Voting Classifier (Soft Voting) Score:97.63                                   \n"
          ]
        }
      ]
    },
    {
      "cell_type": "markdown",
      "metadata": {
        "id": "ymis2i14cPxH"
      },
      "source": [
        "####18b. Bagging Classifier"
      ]
    },
    {
      "cell_type": "markdown",
      "metadata": {
        "id": "1aE3sYVEcVxg"
      },
      "source": [
        "For ensembling with Bagging, we use the classifier with the best score: **SVM (rbf kernel)**. We experiment with 5, 10, 15 estimators."
      ]
    },
    {
      "cell_type": "code",
      "metadata": {
        "colab": {
          "base_uri": "https://localhost:8080/"
        },
        "id": "yxSXaijdcrHW",
        "outputId": "23156bea-a265-44fc-8d02-df7dd4c8ef7f"
      },
      "source": [
        "base_model = SVC(kernel='rbf', probability=True)\n",
        "score = np.round(lib.evaluate_bagging_classifier(base_model, X_train, Y_train, estimators=5, folds=5)*100,2)\n",
        "print(f\"{'Bagging Classifier (5 estimators) Score:':<50}{score:<40}\") "
      ],
      "execution_count": null,
      "outputs": [
        {
          "output_type": "stream",
          "name": "stdout",
          "text": [
            "Bagging Classifier (5 estimators) Score:          97.59                                   \n"
          ]
        }
      ]
    },
    {
      "cell_type": "code",
      "metadata": {
        "colab": {
          "base_uri": "https://localhost:8080/"
        },
        "id": "TA849DpscuVQ",
        "outputId": "674d2f99-a498-4a2d-de9a-5acec7796d78"
      },
      "source": [
        "score = np.round(lib.evaluate_bagging_classifier(base_model, X_train, Y_train, estimators=10, folds=5)*100,2)\n",
        "print(f\"{'Bagging Classifier (10 estimators) Score:':<50}{score:<40}\") "
      ],
      "execution_count": null,
      "outputs": [
        {
          "output_type": "stream",
          "name": "stdout",
          "text": [
            "Bagging Classifier (10 estimators) Score:         97.65                                   \n"
          ]
        }
      ]
    },
    {
      "cell_type": "code",
      "metadata": {
        "colab": {
          "base_uri": "https://localhost:8080/"
        },
        "id": "iSUhvsb3dHAG",
        "outputId": "c5d0c596-f51e-42ba-bff6-3ee354ee048c"
      },
      "source": [
        "score = np.round(lib.evaluate_bagging_classifier(base_model, X_train, Y_train, estimators=15, folds=5)*100,2)\n",
        "print(f\"{'Bagging Classifier (15 estimators) Score:':<50}{score:<40}\") "
      ],
      "execution_count": null,
      "outputs": [
        {
          "output_type": "stream",
          "name": "stdout",
          "text": [
            "Bagging Classifier (15 estimators) Score:         97.63                                   \n"
          ]
        }
      ]
    },
    {
      "cell_type": "markdown",
      "metadata": {
        "id": "Rc20prJYwmJm"
      },
      "source": [
        "###Step 19: Neural networks implementation"
      ]
    },
    {
      "cell_type": "code",
      "metadata": {
        "id": "ns90_cSKAP99"
      },
      "source": [
        "import random\n",
        "import torch\n",
        "import torch.nn as nn\n",
        "import matplotlib.pyplot as plt"
      ],
      "execution_count": null,
      "outputs": []
    },
    {
      "cell_type": "markdown",
      "metadata": {
        "id": "dyuzVzMP_YN4"
      },
      "source": [
        "#### 19a. Dataset and Dataloader class implementation for digit data"
      ]
    },
    {
      "cell_type": "code",
      "metadata": {
        "id": "g9bztYByDU7D"
      },
      "source": [
        "from torch.utils.data import Dataset\n",
        "from torch.utils.data import DataLoader\n",
        "\n",
        "class DigitData(Dataset):\n",
        "    def __init__(self, X, y, trans=None):\n",
        "        # all the available data are stored in a list\n",
        "        self.data = list(zip(X, y))\n",
        "        # we optionally may add a transformation on top of the given data\n",
        "        # this is called augmentation in realistic setups\n",
        "        self.trans = trans\n",
        "        \n",
        "    def __len__(self):\n",
        "        return len(self.data)\n",
        "    \n",
        "    def __getitem__(self, idx):\n",
        "        if self.trans is not None:\n",
        "            return self.trans(self.data[idx])\n",
        "        else:\n",
        "            return self.data[idx]\n",
        "\n",
        "class ToTensor(object):\n",
        "  \"\"\"converts a numpy object to a torch tensor\"\"\"\n",
        "  def __init__(self):\n",
        "        pass\n",
        "      \n",
        "  def __call__(self, datum):\n",
        "      x, y = datum[0], datum[1]\n",
        "      t = torch.from_numpy(x).type(torch.FloatTensor) \n",
        "      return t, y"
      ],
      "execution_count": null,
      "outputs": []
    },
    {
      "cell_type": "code",
      "metadata": {
        "id": "C7iPQtrBPs7B"
      },
      "source": [
        "EPOCHS = 100\n",
        "BATCH_SZ = 32\n",
        "train_data = DigitData(X_train, Y_train, trans=ToTensor())\n",
        "test_data = DigitData(X_test, Y_test, trans=ToTensor())\n",
        "train_dl = DataLoader(train_data, batch_size=BATCH_SZ, shuffle=True)\n",
        "test_dl = DataLoader(test_data, batch_size=BATCH_SZ, shuffle=True)"
      ],
      "execution_count": null,
      "outputs": []
    },
    {
      "cell_type": "markdown",
      "metadata": {
        "id": "1Jp9hCB0_mep"
      },
      "source": [
        "#### 19b.\n"
      ]
    },
    {
      "cell_type": "markdown",
      "metadata": {
        "id": "pmxWcqFMABbw"
      },
      "source": [
        "##### A. Fully connected neural network implementation for digit data"
      ]
    },
    {
      "cell_type": "code",
      "metadata": {
        "id": "8Wdm58wd7b1x"
      },
      "source": [
        "import torch.nn as nn\n",
        "import torch.nn.functional as F\n",
        "\n",
        "class LinearWActivation(nn.Module): \n",
        "  def __init__(self, in_features, out_features, activation='Sigmoid'):\n",
        "      super(LinearWActivation, self).__init__()\n",
        "      self.f = nn.Linear(in_features, out_features)\n",
        "      if activation == 'Sigmoid':\n",
        "          self.a = nn.Sigmoid()\n",
        "      else:\n",
        "          self.a = nn.ReLU()\n",
        "      \n",
        "  def forward(self, x): \n",
        "      return self.a(self.f(x))\n",
        "\n",
        "class MyFunnyNet(nn.Module): \n",
        "    def __init__(self, layers, n_features, n_classes, activation='Sigmoid'):\n",
        "      '''\n",
        "      Args:\n",
        "        layers (list): a list of the number of consecutive layers\n",
        "        n_features (int):  the number of input features\n",
        "        n_classes (int): the number of output classes\n",
        "        activation (str): type of non-linearity to be used\n",
        "      '''\n",
        "      super(MyFunnyNet, self).__init__()\n",
        "      layers_in = [n_features] + layers # list concatenation\n",
        "      layers_out = layers + [n_classes]\n",
        "      # loop through layers_in and layers_out lists\n",
        "      self.f = nn.Sequential(*[\n",
        "          LinearWActivation(in_feats, out_feats, activation=activation)\n",
        "          for in_feats, out_feats in zip(layers_in, layers_out)\n",
        "      ])\n",
        "      # final classification layer is always a linear mapping\n",
        "      self.clf = nn.Linear(n_classes, n_classes)\n",
        "      self.label = \"{:<21} \\t{:<7}\".format(str(layers), activation)\n",
        "                \n",
        "    def forward(self, x): # again the forwrad pass\n",
        "      # apply non-linear composition of layers/functions\n",
        "      y = self.f(x)\n",
        "      # return an affine transformation of y <-> classification layer\n",
        "      return self.clf(y)"
      ],
      "execution_count": null,
      "outputs": []
    },
    {
      "cell_type": "code",
      "metadata": {
        "colab": {
          "base_uri": "https://localhost:8080/"
        },
        "id": "HqPX4Xfh9SjH",
        "outputId": "528c0db6-3221-42dd-c58f-905eab0548bf"
      },
      "source": [
        "net = MyFunnyNet([100, 100], X_train.shape[1], len(set(Y_train)))\n",
        "print(f\"The network architecture is: \\n {net}\")"
      ],
      "execution_count": null,
      "outputs": [
        {
          "output_type": "stream",
          "name": "stdout",
          "text": [
            "The network architecture is: \n",
            " MyFunnyNet(\n",
            "  (f): Sequential(\n",
            "    (0): LinearWActivation(\n",
            "      (f): Linear(in_features=256, out_features=100, bias=True)\n",
            "      (a): Sigmoid()\n",
            "    )\n",
            "    (1): LinearWActivation(\n",
            "      (f): Linear(in_features=100, out_features=100, bias=True)\n",
            "      (a): Sigmoid()\n",
            "    )\n",
            "    (2): LinearWActivation(\n",
            "      (f): Linear(in_features=100, out_features=10, bias=True)\n",
            "      (a): Sigmoid()\n",
            "    )\n",
            "  )\n",
            "  (clf): Linear(in_features=10, out_features=10, bias=True)\n",
            ")\n"
          ]
        }
      ]
    },
    {
      "cell_type": "markdown",
      "metadata": {
        "id": "kHJcqo5WAHmd"
      },
      "source": [
        "##### B. Network training and testing"
      ]
    },
    {
      "cell_type": "code",
      "metadata": {
        "id": "wxxoQsmX-sMG"
      },
      "source": [
        "import torch.optim as optim\n",
        "\n",
        "def train(net, train_dl, criterion=nn.CrossEntropyLoss(), learning_rate=1e-2, optim_func=optim.SGD, allow_printing=False):\n",
        "    optimizer = optim_func(net.parameters(), lr=learning_rate) # feed the optimizer with the network parameters\n",
        "    net.train() # gradients \"on\"\n",
        "    for epoch in range(EPOCHS): # loop through dataset\n",
        "        running_average_loss = 0\n",
        "        for i, data in enumerate(train_dl): # loop thorugh batches\n",
        "            X_batch, y_batch = data # get the features and labels\n",
        "            optimizer.zero_grad() # ALWAYS USE THIS!! \n",
        "            out = net(X_batch) # forward pass\n",
        "            loss = criterion(out, y_batch) # compute per batch loss \n",
        "            loss.backward() # compute gradients based on the loss function\n",
        "            optimizer.step() # update weights \n",
        "            \n",
        "            running_average_loss += loss.detach().item()\n",
        "            if allow_printing and i % 100 == 0:\n",
        "                print(\"Epoch: {} \\t Batch: {} \\t Loss {}\".format(epoch, i, float(running_average_loss) / (i + 1)))\n",
        "\n",
        "def evaluate(net, test_dl):\n",
        "    net.eval() # turns off batchnorm/dropout ...\n",
        "    acc = 0\n",
        "    n_samples = 0\n",
        "    with torch.no_grad(): # no gradients required!! eval mode, speeds up computation\n",
        "        for i, data in enumerate(test_dl):\n",
        "            X_batch, y_batch = data # test data and labels\n",
        "            out = net(X_batch) # get net's predictions\n",
        "            val, y_pred = out.max(1) # argmax since output is a prob distribution\n",
        "            acc += (y_batch == y_pred).sum().detach().item() # get accuracy\n",
        "            n_samples += X_batch.size(0)\n",
        "    print(\"{} \\t-> Accuracy: {:.2f}%\".format(net.label, acc * 100/ n_samples))"
      ],
      "execution_count": null,
      "outputs": []
    },
    {
      "cell_type": "code",
      "metadata": {
        "colab": {
          "base_uri": "https://localhost:8080/"
        },
        "id": "VcVEACgHOb62",
        "outputId": "04cab8e0-30ce-4539-f08e-14758054f579"
      },
      "source": [
        "train(net, train_dl, allow_printing=True)"
      ],
      "execution_count": null,
      "outputs": [
        {
          "output_type": "stream",
          "name": "stdout",
          "text": [
            "Epoch: 0 \t Batch: 0 \t Loss 2.43612003326416\n",
            "Epoch: 0 \t Batch: 100 \t Loss 2.3363524380296763\n",
            "Epoch: 0 \t Batch: 200 \t Loss 2.3176826837644056\n",
            "Epoch: 1 \t Batch: 0 \t Loss 2.298663377761841\n",
            "Epoch: 1 \t Batch: 100 \t Loss 2.2752267299312177\n",
            "Epoch: 1 \t Batch: 200 \t Loss 2.276095009561795\n",
            "Epoch: 2 \t Batch: 0 \t Loss 2.241879940032959\n",
            "Epoch: 2 \t Batch: 100 \t Loss 2.272773508978362\n",
            "Epoch: 2 \t Batch: 200 \t Loss 2.270988714635669\n",
            "Epoch: 3 \t Batch: 0 \t Loss 2.2513370513916016\n",
            "Epoch: 3 \t Batch: 100 \t Loss 2.2635488510131836\n",
            "Epoch: 3 \t Batch: 200 \t Loss 2.2701347194500823\n",
            "Epoch: 4 \t Batch: 0 \t Loss 2.215959310531616\n",
            "Epoch: 4 \t Batch: 100 \t Loss 2.2668485665085294\n",
            "Epoch: 4 \t Batch: 200 \t Loss 2.267825892908656\n",
            "Epoch: 5 \t Batch: 0 \t Loss 2.294757127761841\n",
            "Epoch: 5 \t Batch: 100 \t Loss 2.2684322560187615\n",
            "Epoch: 5 \t Batch: 200 \t Loss 2.2696304463628514\n",
            "Epoch: 6 \t Batch: 0 \t Loss 2.2476534843444824\n",
            "Epoch: 6 \t Batch: 100 \t Loss 2.268960442873511\n",
            "Epoch: 6 \t Batch: 200 \t Loss 2.268345121127456\n",
            "Epoch: 7 \t Batch: 0 \t Loss 2.2788896560668945\n",
            "Epoch: 7 \t Batch: 100 \t Loss 2.2651029152445274\n",
            "Epoch: 7 \t Batch: 200 \t Loss 2.268167466073487\n",
            "Epoch: 8 \t Batch: 0 \t Loss 2.2542316913604736\n",
            "Epoch: 8 \t Batch: 100 \t Loss 2.2693222725745477\n",
            "Epoch: 8 \t Batch: 200 \t Loss 2.2688233128827604\n",
            "Epoch: 9 \t Batch: 0 \t Loss 2.304312229156494\n",
            "Epoch: 9 \t Batch: 100 \t Loss 2.271296977996826\n",
            "Epoch: 9 \t Batch: 200 \t Loss 2.267918318658326\n",
            "Epoch: 10 \t Batch: 0 \t Loss 2.2617199420928955\n",
            "Epoch: 10 \t Batch: 100 \t Loss 2.264971388448583\n",
            "Epoch: 10 \t Batch: 200 \t Loss 2.2688839032282284\n",
            "Epoch: 11 \t Batch: 0 \t Loss 2.243555784225464\n",
            "Epoch: 11 \t Batch: 100 \t Loss 2.2623605114398617\n",
            "Epoch: 11 \t Batch: 200 \t Loss 2.2660958790660497\n",
            "Epoch: 12 \t Batch: 0 \t Loss 2.291002035140991\n",
            "Epoch: 12 \t Batch: 100 \t Loss 2.266097717946119\n",
            "Epoch: 12 \t Batch: 200 \t Loss 2.2678658641985994\n",
            "Epoch: 13 \t Batch: 0 \t Loss 2.254737138748169\n",
            "Epoch: 13 \t Batch: 100 \t Loss 2.2589998764566857\n",
            "Epoch: 13 \t Batch: 200 \t Loss 2.2661136643803537\n",
            "Epoch: 14 \t Batch: 0 \t Loss 2.2330892086029053\n",
            "Epoch: 14 \t Batch: 100 \t Loss 2.264788563888852\n",
            "Epoch: 14 \t Batch: 200 \t Loss 2.2666802394449412\n",
            "Epoch: 15 \t Batch: 0 \t Loss 2.2457947731018066\n",
            "Epoch: 15 \t Batch: 100 \t Loss 2.2691089658453913\n",
            "Epoch: 15 \t Batch: 200 \t Loss 2.265868581942658\n",
            "Epoch: 16 \t Batch: 0 \t Loss 2.2778384685516357\n",
            "Epoch: 16 \t Batch: 100 \t Loss 2.263899871618441\n",
            "Epoch: 16 \t Batch: 200 \t Loss 2.2661813230656866\n",
            "Epoch: 17 \t Batch: 0 \t Loss 2.2206311225891113\n",
            "Epoch: 17 \t Batch: 100 \t Loss 2.2687548812073057\n",
            "Epoch: 17 \t Batch: 200 \t Loss 2.264690583025045\n",
            "Epoch: 18 \t Batch: 0 \t Loss 2.25822114944458\n",
            "Epoch: 18 \t Batch: 100 \t Loss 2.2656762411098668\n",
            "Epoch: 18 \t Batch: 200 \t Loss 2.263966703889382\n",
            "Epoch: 19 \t Batch: 0 \t Loss 2.2648890018463135\n",
            "Epoch: 19 \t Batch: 100 \t Loss 2.265902604206954\n",
            "Epoch: 19 \t Batch: 200 \t Loss 2.264301856358846\n",
            "Epoch: 20 \t Batch: 0 \t Loss 2.273763418197632\n",
            "Epoch: 20 \t Batch: 100 \t Loss 2.261073348545792\n",
            "Epoch: 20 \t Batch: 200 \t Loss 2.2638722177761705\n",
            "Epoch: 21 \t Batch: 0 \t Loss 2.195294141769409\n",
            "Epoch: 21 \t Batch: 100 \t Loss 2.2579521613545936\n",
            "Epoch: 21 \t Batch: 200 \t Loss 2.261355522260144\n",
            "Epoch: 22 \t Batch: 0 \t Loss 2.2361767292022705\n",
            "Epoch: 22 \t Batch: 100 \t Loss 2.2584733774166295\n",
            "Epoch: 22 \t Batch: 200 \t Loss 2.2619842925475013\n",
            "Epoch: 23 \t Batch: 0 \t Loss 2.272900104522705\n",
            "Epoch: 23 \t Batch: 100 \t Loss 2.2615556952976945\n",
            "Epoch: 23 \t Batch: 200 \t Loss 2.2592925254385268\n",
            "Epoch: 24 \t Batch: 0 \t Loss 2.2057230472564697\n",
            "Epoch: 24 \t Batch: 100 \t Loss 2.263798439856803\n",
            "Epoch: 24 \t Batch: 200 \t Loss 2.258436110482287\n",
            "Epoch: 25 \t Batch: 0 \t Loss 2.2718048095703125\n",
            "Epoch: 25 \t Batch: 100 \t Loss 2.2617080683755404\n",
            "Epoch: 25 \t Batch: 200 \t Loss 2.2571362808569155\n",
            "Epoch: 26 \t Batch: 0 \t Loss 2.2135255336761475\n",
            "Epoch: 26 \t Batch: 100 \t Loss 2.2531708325489914\n",
            "Epoch: 26 \t Batch: 200 \t Loss 2.2559426269721037\n",
            "Epoch: 27 \t Batch: 0 \t Loss 2.2074384689331055\n",
            "Epoch: 27 \t Batch: 100 \t Loss 2.250434712608262\n",
            "Epoch: 27 \t Batch: 200 \t Loss 2.2513429169631123\n",
            "Epoch: 28 \t Batch: 0 \t Loss 2.207679271697998\n",
            "Epoch: 28 \t Batch: 100 \t Loss 2.251391906549435\n",
            "Epoch: 28 \t Batch: 200 \t Loss 2.250629651605786\n",
            "Epoch: 29 \t Batch: 0 \t Loss 2.1565637588500977\n",
            "Epoch: 29 \t Batch: 100 \t Loss 2.2499179627635693\n",
            "Epoch: 29 \t Batch: 200 \t Loss 2.2478088917423835\n",
            "Epoch: 30 \t Batch: 0 \t Loss 2.2022275924682617\n",
            "Epoch: 30 \t Batch: 100 \t Loss 2.246506114997486\n",
            "Epoch: 30 \t Batch: 200 \t Loss 2.2473680237632485\n",
            "Epoch: 31 \t Batch: 0 \t Loss 2.2845025062561035\n",
            "Epoch: 31 \t Batch: 100 \t Loss 2.2360140262263837\n",
            "Epoch: 31 \t Batch: 200 \t Loss 2.2395573113095106\n",
            "Epoch: 32 \t Batch: 0 \t Loss 2.212522506713867\n",
            "Epoch: 32 \t Batch: 100 \t Loss 2.2350231114000376\n",
            "Epoch: 32 \t Batch: 200 \t Loss 2.2319701133082757\n",
            "Epoch: 33 \t Batch: 0 \t Loss 2.148333787918091\n",
            "Epoch: 33 \t Batch: 100 \t Loss 2.2254939008467267\n",
            "Epoch: 33 \t Batch: 200 \t Loss 2.2256996252050447\n",
            "Epoch: 34 \t Batch: 0 \t Loss 2.284937858581543\n",
            "Epoch: 34 \t Batch: 100 \t Loss 2.216050334496073\n",
            "Epoch: 34 \t Batch: 200 \t Loss 2.2159017650642205\n",
            "Epoch: 35 \t Batch: 0 \t Loss 2.196613311767578\n",
            "Epoch: 35 \t Batch: 100 \t Loss 2.213542810761102\n",
            "Epoch: 35 \t Batch: 200 \t Loss 2.2046254713143876\n",
            "Epoch: 36 \t Batch: 0 \t Loss 2.2440075874328613\n",
            "Epoch: 36 \t Batch: 100 \t Loss 2.189946930007179\n",
            "Epoch: 36 \t Batch: 200 \t Loss 2.1896894523753456\n",
            "Epoch: 37 \t Batch: 0 \t Loss 2.093654155731201\n",
            "Epoch: 37 \t Batch: 100 \t Loss 2.1639914677874876\n",
            "Epoch: 37 \t Batch: 200 \t Loss 2.160878547388523\n",
            "Epoch: 38 \t Batch: 0 \t Loss 2.221665382385254\n",
            "Epoch: 38 \t Batch: 100 \t Loss 2.145179543164697\n",
            "Epoch: 38 \t Batch: 200 \t Loss 2.135734435337693\n",
            "Epoch: 39 \t Batch: 0 \t Loss 2.053840160369873\n",
            "Epoch: 39 \t Batch: 100 \t Loss 2.1189881846456244\n",
            "Epoch: 39 \t Batch: 200 \t Loss 2.10375808720565\n",
            "Epoch: 40 \t Batch: 0 \t Loss 2.0829501152038574\n",
            "Epoch: 40 \t Batch: 100 \t Loss 2.0785051112127775\n",
            "Epoch: 40 \t Batch: 200 \t Loss 2.0719718600980084\n",
            "Epoch: 41 \t Batch: 0 \t Loss 1.917892336845398\n",
            "Epoch: 41 \t Batch: 100 \t Loss 2.036481424133376\n",
            "Epoch: 41 \t Batch: 200 \t Loss 2.02745651902251\n",
            "Epoch: 42 \t Batch: 0 \t Loss 2.0642528533935547\n",
            "Epoch: 42 \t Batch: 100 \t Loss 1.99042809835755\n",
            "Epoch: 42 \t Batch: 200 \t Loss 1.991629148597148\n",
            "Epoch: 43 \t Batch: 0 \t Loss 1.9663300514221191\n",
            "Epoch: 43 \t Batch: 100 \t Loss 1.9614694956505652\n",
            "Epoch: 43 \t Batch: 200 \t Loss 1.9590609085500537\n",
            "Epoch: 44 \t Batch: 0 \t Loss 1.9669572114944458\n",
            "Epoch: 44 \t Batch: 100 \t Loss 1.9333957256657062\n",
            "Epoch: 44 \t Batch: 200 \t Loss 1.9222847104665652\n",
            "Epoch: 45 \t Batch: 0 \t Loss 1.7828842401504517\n",
            "Epoch: 45 \t Batch: 100 \t Loss 1.9027060931271846\n",
            "Epoch: 45 \t Batch: 200 \t Loss 1.898627368964959\n",
            "Epoch: 46 \t Batch: 0 \t Loss 1.8011915683746338\n",
            "Epoch: 46 \t Batch: 100 \t Loss 1.8952011861423455\n",
            "Epoch: 46 \t Batch: 200 \t Loss 1.8744880393962955\n",
            "Epoch: 47 \t Batch: 0 \t Loss 1.7845652103424072\n",
            "Epoch: 47 \t Batch: 100 \t Loss 1.8642948027884607\n",
            "Epoch: 47 \t Batch: 200 \t Loss 1.8506849440769177\n",
            "Epoch: 48 \t Batch: 0 \t Loss 1.8058760166168213\n",
            "Epoch: 48 \t Batch: 100 \t Loss 1.8143072258127797\n",
            "Epoch: 48 \t Batch: 200 \t Loss 1.8260029928008121\n",
            "Epoch: 49 \t Batch: 0 \t Loss 1.9100406169891357\n",
            "Epoch: 49 \t Batch: 100 \t Loss 1.811739749247485\n",
            "Epoch: 49 \t Batch: 200 \t Loss 1.8140720496723308\n",
            "Epoch: 50 \t Batch: 0 \t Loss 1.7966338396072388\n",
            "Epoch: 50 \t Batch: 100 \t Loss 1.7731109798544704\n",
            "Epoch: 50 \t Batch: 200 \t Loss 1.784304684074364\n",
            "Epoch: 51 \t Batch: 0 \t Loss 1.6468600034713745\n",
            "Epoch: 51 \t Batch: 100 \t Loss 1.778976599768837\n",
            "Epoch: 51 \t Batch: 200 \t Loss 1.7696747091872183\n",
            "Epoch: 52 \t Batch: 0 \t Loss 1.9787667989730835\n",
            "Epoch: 52 \t Batch: 100 \t Loss 1.7621639447637123\n",
            "Epoch: 52 \t Batch: 200 \t Loss 1.7468529601595295\n",
            "Epoch: 53 \t Batch: 0 \t Loss 1.376402497291565\n",
            "Epoch: 53 \t Batch: 100 \t Loss 1.7361170147905256\n",
            "Epoch: 53 \t Batch: 200 \t Loss 1.7350820581711346\n",
            "Epoch: 54 \t Batch: 0 \t Loss 1.402129054069519\n",
            "Epoch: 54 \t Batch: 100 \t Loss 1.7034722212517615\n",
            "Epoch: 54 \t Batch: 200 \t Loss 1.7151706977863217\n",
            "Epoch: 55 \t Batch: 0 \t Loss 1.521975040435791\n",
            "Epoch: 55 \t Batch: 100 \t Loss 1.6838522630162758\n",
            "Epoch: 55 \t Batch: 200 \t Loss 1.6977485999539124\n",
            "Epoch: 56 \t Batch: 0 \t Loss 1.7695516347885132\n",
            "Epoch: 56 \t Batch: 100 \t Loss 1.6915466714613507\n",
            "Epoch: 56 \t Batch: 200 \t Loss 1.6867616603623574\n",
            "Epoch: 57 \t Batch: 0 \t Loss 1.600084900856018\n",
            "Epoch: 57 \t Batch: 100 \t Loss 1.6796558505237693\n",
            "Epoch: 57 \t Batch: 200 \t Loss 1.6701807186971256\n",
            "Epoch: 58 \t Batch: 0 \t Loss 1.6806598901748657\n",
            "Epoch: 58 \t Batch: 100 \t Loss 1.6626802966146186\n",
            "Epoch: 58 \t Batch: 200 \t Loss 1.655209655192361\n",
            "Epoch: 59 \t Batch: 0 \t Loss 1.686410903930664\n",
            "Epoch: 59 \t Batch: 100 \t Loss 1.6277826493329342\n",
            "Epoch: 59 \t Batch: 200 \t Loss 1.643987147369195\n",
            "Epoch: 60 \t Batch: 0 \t Loss 1.6116374731063843\n",
            "Epoch: 60 \t Batch: 100 \t Loss 1.6217507064932644\n",
            "Epoch: 60 \t Batch: 200 \t Loss 1.6218677474491632\n",
            "Epoch: 61 \t Batch: 0 \t Loss 1.6729741096496582\n",
            "Epoch: 61 \t Batch: 100 \t Loss 1.6171250130870554\n",
            "Epoch: 61 \t Batch: 200 \t Loss 1.6101487240388026\n",
            "Epoch: 62 \t Batch: 0 \t Loss 1.8126881122589111\n",
            "Epoch: 62 \t Batch: 100 \t Loss 1.5972994412526045\n",
            "Epoch: 62 \t Batch: 200 \t Loss 1.59906686241947\n",
            "Epoch: 63 \t Batch: 0 \t Loss 1.7933881282806396\n",
            "Epoch: 63 \t Batch: 100 \t Loss 1.5792283787585721\n",
            "Epoch: 63 \t Batch: 200 \t Loss 1.592032651403057\n",
            "Epoch: 64 \t Batch: 0 \t Loss 1.5651739835739136\n",
            "Epoch: 64 \t Batch: 100 \t Loss 1.5574957403806176\n",
            "Epoch: 64 \t Batch: 200 \t Loss 1.5719997829465724\n",
            "Epoch: 65 \t Batch: 0 \t Loss 1.435608983039856\n",
            "Epoch: 65 \t Batch: 100 \t Loss 1.5665826419792552\n",
            "Epoch: 65 \t Batch: 200 \t Loss 1.5564605952495367\n",
            "Epoch: 66 \t Batch: 0 \t Loss 1.5082788467407227\n",
            "Epoch: 66 \t Batch: 100 \t Loss 1.5480550067259533\n",
            "Epoch: 66 \t Batch: 200 \t Loss 1.5443936301701104\n",
            "Epoch: 67 \t Batch: 0 \t Loss 1.2577680349349976\n",
            "Epoch: 67 \t Batch: 100 \t Loss 1.5510344292857858\n",
            "Epoch: 67 \t Batch: 200 \t Loss 1.5310231239641483\n",
            "Epoch: 68 \t Batch: 0 \t Loss 1.5906530618667603\n",
            "Epoch: 68 \t Batch: 100 \t Loss 1.5175994894292095\n",
            "Epoch: 68 \t Batch: 200 \t Loss 1.510715338128123\n",
            "Epoch: 69 \t Batch: 0 \t Loss 1.730276107788086\n",
            "Epoch: 69 \t Batch: 100 \t Loss 1.5076244467555886\n",
            "Epoch: 69 \t Batch: 200 \t Loss 1.5007590411314324\n",
            "Epoch: 70 \t Batch: 0 \t Loss 1.648542046546936\n",
            "Epoch: 70 \t Batch: 100 \t Loss 1.489379606624641\n",
            "Epoch: 70 \t Batch: 200 \t Loss 1.491297777612411\n",
            "Epoch: 71 \t Batch: 0 \t Loss 1.4444671869277954\n",
            "Epoch: 71 \t Batch: 100 \t Loss 1.4837273028817508\n",
            "Epoch: 71 \t Batch: 200 \t Loss 1.480120786386936\n",
            "Epoch: 72 \t Batch: 0 \t Loss 1.3570542335510254\n",
            "Epoch: 72 \t Batch: 100 \t Loss 1.4801209232594708\n",
            "Epoch: 72 \t Batch: 200 \t Loss 1.4731622424291735\n",
            "Epoch: 73 \t Batch: 0 \t Loss 1.478906512260437\n",
            "Epoch: 73 \t Batch: 100 \t Loss 1.447728139339107\n",
            "Epoch: 73 \t Batch: 200 \t Loss 1.4555805369989196\n",
            "Epoch: 74 \t Batch: 0 \t Loss 1.251533031463623\n",
            "Epoch: 74 \t Batch: 100 \t Loss 1.4430866229652177\n",
            "Epoch: 74 \t Batch: 200 \t Loss 1.4525045797006408\n",
            "Epoch: 75 \t Batch: 0 \t Loss 1.3070529699325562\n",
            "Epoch: 75 \t Batch: 100 \t Loss 1.4284337440339645\n",
            "Epoch: 75 \t Batch: 200 \t Loss 1.433396691113562\n",
            "Epoch: 76 \t Batch: 0 \t Loss 1.5279958248138428\n",
            "Epoch: 76 \t Batch: 100 \t Loss 1.4168789457566668\n",
            "Epoch: 76 \t Batch: 200 \t Loss 1.4237894893285648\n",
            "Epoch: 77 \t Batch: 0 \t Loss 1.2763181924819946\n",
            "Epoch: 77 \t Batch: 100 \t Loss 1.4166243454017262\n",
            "Epoch: 77 \t Batch: 200 \t Loss 1.413972938831766\n",
            "Epoch: 78 \t Batch: 0 \t Loss 1.3468170166015625\n",
            "Epoch: 78 \t Batch: 100 \t Loss 1.4013681978282362\n",
            "Epoch: 78 \t Batch: 200 \t Loss 1.4001664471863515\n",
            "Epoch: 79 \t Batch: 0 \t Loss 1.2208296060562134\n",
            "Epoch: 79 \t Batch: 100 \t Loss 1.3885136287991364\n",
            "Epoch: 79 \t Batch: 200 \t Loss 1.3932928481505285\n",
            "Epoch: 80 \t Batch: 0 \t Loss 1.5923618078231812\n",
            "Epoch: 80 \t Batch: 100 \t Loss 1.3873581414175506\n",
            "Epoch: 80 \t Batch: 200 \t Loss 1.3819021087380785\n",
            "Epoch: 81 \t Batch: 0 \t Loss 1.346867561340332\n",
            "Epoch: 81 \t Batch: 100 \t Loss 1.3814349929885108\n",
            "Epoch: 81 \t Batch: 200 \t Loss 1.3716253498893471\n",
            "Epoch: 82 \t Batch: 0 \t Loss 1.1487613916397095\n",
            "Epoch: 82 \t Batch: 100 \t Loss 1.3677911321715552\n",
            "Epoch: 82 \t Batch: 200 \t Loss 1.3616972598270398\n",
            "Epoch: 83 \t Batch: 0 \t Loss 1.4386571645736694\n",
            "Epoch: 83 \t Batch: 100 \t Loss 1.3522225724588526\n",
            "Epoch: 83 \t Batch: 200 \t Loss 1.3547639573984478\n",
            "Epoch: 84 \t Batch: 0 \t Loss 1.5902363061904907\n",
            "Epoch: 84 \t Batch: 100 \t Loss 1.3504443097822736\n",
            "Epoch: 84 \t Batch: 200 \t Loss 1.3425184191755988\n",
            "Epoch: 85 \t Batch: 0 \t Loss 1.4676815271377563\n",
            "Epoch: 85 \t Batch: 100 \t Loss 1.3489264698311834\n",
            "Epoch: 85 \t Batch: 200 \t Loss 1.3360679778293592\n",
            "Epoch: 86 \t Batch: 0 \t Loss 1.3321031332015991\n",
            "Epoch: 86 \t Batch: 100 \t Loss 1.3170454159821614\n",
            "Epoch: 86 \t Batch: 200 \t Loss 1.3255524089680382\n",
            "Epoch: 87 \t Batch: 0 \t Loss 1.5571345090866089\n",
            "Epoch: 87 \t Batch: 100 \t Loss 1.3202550942354863\n",
            "Epoch: 87 \t Batch: 200 \t Loss 1.323968331315624\n",
            "Epoch: 88 \t Batch: 0 \t Loss 1.3623781204223633\n",
            "Epoch: 88 \t Batch: 100 \t Loss 1.326664917539842\n",
            "Epoch: 88 \t Batch: 200 \t Loss 1.3128491302034748\n",
            "Epoch: 89 \t Batch: 0 \t Loss 1.1765003204345703\n",
            "Epoch: 89 \t Batch: 100 \t Loss 1.3171920799972987\n",
            "Epoch: 89 \t Batch: 200 \t Loss 1.3022891119937992\n",
            "Epoch: 90 \t Batch: 0 \t Loss 1.3183600902557373\n",
            "Epoch: 90 \t Batch: 100 \t Loss 1.3103639211985145\n",
            "Epoch: 90 \t Batch: 200 \t Loss 1.2975637292980555\n",
            "Epoch: 91 \t Batch: 0 \t Loss 1.1975898742675781\n",
            "Epoch: 91 \t Batch: 100 \t Loss 1.2804133821241925\n",
            "Epoch: 91 \t Batch: 200 \t Loss 1.289332539584506\n",
            "Epoch: 92 \t Batch: 0 \t Loss 0.8553733825683594\n",
            "Epoch: 92 \t Batch: 100 \t Loss 1.280816150183725\n",
            "Epoch: 92 \t Batch: 200 \t Loss 1.2837416416970058\n",
            "Epoch: 93 \t Batch: 0 \t Loss 1.399168610572815\n",
            "Epoch: 93 \t Batch: 100 \t Loss 1.286350692852889\n",
            "Epoch: 93 \t Batch: 200 \t Loss 1.2747182976547164\n",
            "Epoch: 94 \t Batch: 0 \t Loss 1.2347356081008911\n",
            "Epoch: 94 \t Batch: 100 \t Loss 1.2577202786313426\n",
            "Epoch: 94 \t Batch: 200 \t Loss 1.261529964297565\n",
            "Epoch: 95 \t Batch: 0 \t Loss 1.0906803607940674\n",
            "Epoch: 95 \t Batch: 100 \t Loss 1.2548352143552044\n",
            "Epoch: 95 \t Batch: 200 \t Loss 1.2540363132657104\n",
            "Epoch: 96 \t Batch: 0 \t Loss 1.2106451988220215\n",
            "Epoch: 96 \t Batch: 100 \t Loss 1.2467059906166378\n",
            "Epoch: 96 \t Batch: 200 \t Loss 1.2485922358522368\n",
            "Epoch: 97 \t Batch: 0 \t Loss 1.4082626104354858\n",
            "Epoch: 97 \t Batch: 100 \t Loss 1.2440929814140396\n",
            "Epoch: 97 \t Batch: 200 \t Loss 1.2417483326807544\n",
            "Epoch: 98 \t Batch: 0 \t Loss 1.1046347618103027\n",
            "Epoch: 98 \t Batch: 100 \t Loss 1.2422906396412614\n",
            "Epoch: 98 \t Batch: 200 \t Loss 1.234159187890997\n",
            "Epoch: 99 \t Batch: 0 \t Loss 1.308837652206421\n",
            "Epoch: 99 \t Batch: 100 \t Loss 1.2345147640398233\n",
            "Epoch: 99 \t Batch: 200 \t Loss 1.2301895075769567\n"
          ]
        }
      ]
    },
    {
      "cell_type": "code",
      "metadata": {
        "colab": {
          "base_uri": "https://localhost:8080/"
        },
        "id": "NXtrmNjD_jT_",
        "outputId": "d921c76d-5834-48bd-984f-98c279868e15"
      },
      "source": [
        "evaluate(net, test_dl)"
      ],
      "execution_count": null,
      "outputs": [
        {
          "output_type": "stream",
          "name": "stdout",
          "text": [
            "[100, 100]            \tSigmoid \t-> Accuracy: 50.92%\n"
          ]
        }
      ]
    },
    {
      "cell_type": "markdown",
      "metadata": {
        "id": "FFBTz0cNAMH7"
      },
      "source": [
        "##### C. Experimentation with neurons number - layers number - non-linear activation types"
      ]
    },
    {
      "cell_type": "code",
      "metadata": {
        "colab": {
          "base_uri": "https://localhost:8080/"
        },
        "id": "C0ulbcklgaE1",
        "outputId": "df42d42e-4c01-466f-f214-2c9a2ea71a7f"
      },
      "source": [
        "EPOCHS = 50\n",
        "BATCH_SZ = 32\n",
        "train_data = DigitData(X_train, Y_train, trans=ToTensor())\n",
        "test_data = DigitData(X_test, Y_test, trans=ToTensor())\n",
        "train_dl = DataLoader(train_data, batch_size=BATCH_SZ, shuffle=True)\n",
        "test_dl = DataLoader(test_data, batch_size=BATCH_SZ, shuffle=True)\n",
        "\n",
        "def experiment(layers, activation='Sigmoid'):\n",
        "    net = MyFunnyNet(layers, X_train.shape[1], len(set(Y_train)), activation)\n",
        "    train(net, train_dl)\n",
        "    evaluate(net, test_dl)\n",
        "\n",
        "experiment([25, 25])\n",
        "experiment([50, 50])\n",
        "experiment([100, 100])\n",
        "experiment([200, 200])\n",
        "experiment([100])\n",
        "experiment([100, 100])\n",
        "experiment([100, 100, 100])\n",
        "experiment([100, 100, 100, 100])\n",
        "\n",
        "experiment([25, 25], activation=\"ReLu\")\n",
        "experiment([50, 50], activation=\"ReLu\")\n",
        "experiment([100, 100], activation=\"ReLu\")\n",
        "experiment([200, 200], activation=\"ReLu\")\n",
        "experiment([100], activation=\"ReLu\")\n",
        "experiment([100, 100], activation=\"ReLu\")\n",
        "experiment([100, 100, 100], activation=\"ReLu\")\n",
        "experiment([100, 100, 100, 100], activation=\"ReLu\")"
      ],
      "execution_count": null,
      "outputs": [
        {
          "output_type": "stream",
          "name": "stdout",
          "text": [
            "[25, 25]              \tSigmoid \t-> Accuracy: 17.89%\n",
            "[50, 50]              \tSigmoid \t-> Accuracy: 30.64%\n",
            "[100, 100]            \tSigmoid \t-> Accuracy: 32.29%\n",
            "[200, 200]            \tSigmoid \t-> Accuracy: 33.93%\n",
            "[100]                 \tSigmoid \t-> Accuracy: 78.82%\n",
            "[100, 100]            \tSigmoid \t-> Accuracy: 30.59%\n",
            "[100, 100, 100]       \tSigmoid \t-> Accuracy: 17.89%\n",
            "[100, 100, 100, 100]  \tSigmoid \t-> Accuracy: 17.89%\n",
            "[25, 25]              \tReLu    \t-> Accuracy: 92.33%\n",
            "[50, 50]              \tReLu    \t-> Accuracy: 92.97%\n",
            "[100, 100]            \tReLu    \t-> Accuracy: 92.87%\n",
            "[200, 200]            \tReLu    \t-> Accuracy: 93.02%\n",
            "[100]                 \tReLu    \t-> Accuracy: 92.13%\n",
            "[100, 100]            \tReLu    \t-> Accuracy: 92.63%\n",
            "[100, 100, 100]       \tReLu    \t-> Accuracy: 93.02%\n",
            "[100, 100, 100, 100]  \tReLu    \t-> Accuracy: 91.58%\n"
          ]
        }
      ]
    },
    {
      "cell_type": "markdown",
      "metadata": {
        "id": "kYTFhYJuAR_L"
      },
      "source": [
        "#### 19c. Neural network implementation compatible with scikit-learn"
      ]
    },
    {
      "cell_type": "code",
      "metadata": {
        "id": "ifRys5EMlAX-"
      },
      "source": [
        "from sklearn.base import BaseEstimator, ClassifierMixin\n",
        "from sklearn.model_selection import KFold\n",
        "from sklearn.model_selection import cross_val_score\n",
        "import numpy as np\n",
        "import matplotlib.pyplot as plt\n",
        "import random\n",
        "import statistics as stats\n",
        "\n",
        "class CustomNNClassifier(BaseEstimator, ClassifierMixin):\n",
        "\n",
        "    def __init__(self, NN_architecture, EPOCHS=30, BATCH_SZ=32, activation='Sigmoid', criterion=nn.CrossEntropyLoss(), learning_rate=1e-2, optim_func=optim.SGD, allow_printing=False):\n",
        "        self.net = None\n",
        "        self.NN_architecture = NN_architecture\n",
        "        self.EPOCHS = EPOCHS\n",
        "        self.BATCH_SZ = BATCH_SZ\n",
        "        self.activation = activation\n",
        "        self.criterion = criterion\n",
        "        self.learning_rate = learning_rate\n",
        "        self.optim_func = optim_func\n",
        "        self.allow_printing = allow_printing        \n",
        "\n",
        "    def fit(self, X, y):\n",
        "        \"\"\"\n",
        "        This should fit classifier. All the \"work\" should be done here.\n",
        "        fit always returns self.\n",
        "        \"\"\"\n",
        "        train_data = DigitData(X, y, trans=ToTensor())\n",
        "        train_dl = DataLoader(train_data, batch_size=self.BATCH_SZ, shuffle=True)\n",
        "        self.net = MyFunnyNet(self.NN_architecture, X.shape[1], len(set(y)), self.activation)\n",
        "        \n",
        "        optimizer = self.optim_func(self.net.parameters(), lr=self.learning_rate) # feed the optimizer with the network parameters\n",
        "        self.net.train() # gradients \"on\"\n",
        "        for epoch in range(self.EPOCHS): # loop through dataset\n",
        "            running_average_loss = 0\n",
        "            for i, data in enumerate(train_dl): # loop thorugh batches\n",
        "                X_batch, y_batch = data # get the features and labels\n",
        "                optimizer.zero_grad() # ALWAYS USE THIS!! \n",
        "                out = self.net(X_batch) # forward pass\n",
        "                loss = self.criterion(out, y_batch) # compute per batch loss \n",
        "                loss.backward() # compurte gradients based on the loss function\n",
        "                optimizer.step() # update weights \n",
        "                \n",
        "                running_average_loss += loss.detach().item()\n",
        "                if self.allow_printing and i % 100 == 0:\n",
        "                    print(\"Epoch: {} \\t Batch: {} \\t Loss {}\".format(epoch, i, float(running_average_loss) / (i + 1)))\n",
        "        return self\n",
        "\n",
        "    def predict(self, X):\n",
        "        \"\"\"\n",
        "        Make predictions for X based on the\n",
        "        maximum probabilty of neuron network's last layer\n",
        "        \"\"\"\n",
        "        out = self.net(X) # get net's predictions\n",
        "        val, y_pred = out.max(1) # argmax since output is a prob distribution\n",
        "        return y_pred\n",
        "\n",
        "    def score(self, X, y):\n",
        "        \"\"\"\n",
        "        Return accuracy score on the predictions\n",
        "        for X based on ground truth y\n",
        "        \"\"\"\n",
        "        test_data = DigitData(X, y, trans=ToTensor())                              \n",
        "        test_dl = DataLoader(test_data, batch_size=self.BATCH_SZ, shuffle=True)  \n",
        "        \n",
        "        self.net.eval() # turns off batchnorm/dropout ...\n",
        "        acc = 0\n",
        "        n_samples = 0\n",
        "        with torch.no_grad(): # no gradients required!! eval mode, speeds up computation\n",
        "            for i, data in enumerate(test_dl):\n",
        "                X_batch, y_batch = data # test data and labels\n",
        "                y_pred = self.predict(X_batch)\n",
        "                acc += (y_batch == y_pred).sum().detach().item() # get accuracy\n",
        "                n_samples += X_batch.size(0)\n",
        "        return acc * 100 / n_samples"
      ],
      "execution_count": null,
      "outputs": []
    },
    {
      "cell_type": "markdown",
      "metadata": {
        "id": "jLz-3oVRHTNb"
      },
      "source": [
        "#### 19d. Evaluation and experimentation"
      ]
    },
    {
      "cell_type": "code",
      "metadata": {
        "colab": {
          "base_uri": "https://localhost:8080/"
        },
        "id": "HP4ldE7UAwqS",
        "outputId": "322b3445-df14-4613-b1e4-c0f1131888db"
      },
      "source": [
        "NN_classifier = CustomNNClassifier(NN_architecture=[50, 50], EPOCHS=50)\n",
        "NN_classifier.fit(X_train, Y_train)\n",
        "NN_classifier_score = NN_classifier.score(X_test, Y_test)  \n",
        "print(\"{} \\t-> Accuracy: {:.2f}%\".format(NN_classifier.net.label, NN_classifier_score))"
      ],
      "execution_count": null,
      "outputs": [
        {
          "output_type": "stream",
          "name": "stdout",
          "text": [
            "[50, 50]              \tSigmoid \t-> Accuracy: 17.89%\n"
          ]
        }
      ]
    },
    {
      "cell_type": "code",
      "metadata": {
        "colab": {
          "base_uri": "https://localhost:8080/"
        },
        "id": "y7Y7Q0eyAzHc",
        "outputId": "596966ce-a436-4432-d001-3af037ebe99e"
      },
      "source": [
        "NN_classifier = CustomNNClassifier(NN_architecture=[25, 25], EPOCHS=50, allow_printing=False)\n",
        "NN_classifier.fit(X_train, Y_train)\n",
        "NN_classifier_score = NN_classifier.score(X_test, Y_test)\n",
        "print(\"{} \\t-> Accuracy: {:.2f}%\".format(NN_classifier.net.label, NN_classifier_score))"
      ],
      "execution_count": null,
      "outputs": [
        {
          "output_type": "stream",
          "name": "stdout",
          "text": [
            "[25, 25]              \tSigmoid \t-> Accuracy: 30.49%\n"
          ]
        }
      ]
    },
    {
      "cell_type": "code",
      "metadata": {
        "colab": {
          "base_uri": "https://localhost:8080/"
        },
        "id": "IYIDz-lLDpge",
        "outputId": "b681b4b8-4344-4c29-e0d8-cd1aae59af5e"
      },
      "source": [
        "def experiment2(NN_architecture, activation='Sigmoid'):\n",
        "    NN_classifier = CustomNNClassifier(NN_architecture, EPOCHS=50, activation=activation)\n",
        "    NN_classifier.fit(X_train, Y_train)\n",
        "    NN_classifier_score = NN_classifier.score(X_test, Y_test)\n",
        "    print(\"{} \\t-> Accuracy: {:.2f}%\".format(NN_classifier.net.label, NN_classifier_score))\n",
        "\n",
        "experiment2([25, 25])\n",
        "experiment2([50, 50])\n",
        "experiment2([100, 100])\n",
        "experiment2([200, 200])\n",
        "experiment2([100])\n",
        "experiment2([100, 100])\n",
        "experiment2([100, 100, 100])\n",
        "experiment2([100, 100, 100, 100])\n",
        "\n",
        "experiment2([25, 25], activation=\"ReLu\")\n",
        "experiment2([50, 50], activation=\"ReLu\")\n",
        "experiment2([100, 100], activation=\"ReLu\")\n",
        "experiment2([200, 200], activation=\"ReLu\")\n",
        "experiment2([100], activation=\"ReLu\")\n",
        "experiment2([100, 100], activation=\"ReLu\")\n",
        "experiment2([100, 100, 100], activation=\"ReLu\")\n",
        "experiment2([100, 100, 100, 100], activation=\"ReLu\")"
      ],
      "execution_count": null,
      "outputs": [
        {
          "output_type": "stream",
          "name": "stdout",
          "text": [
            "[25, 25]              \tSigmoid \t-> Accuracy: 29.45%\n",
            "[50, 50]              \tSigmoid \t-> Accuracy: 17.89%\n",
            "[100, 100]            \tSigmoid \t-> Accuracy: 30.44%\n",
            "[200, 200]            \tSigmoid \t-> Accuracy: 32.19%\n",
            "[100]                 \tSigmoid \t-> Accuracy: 76.83%\n",
            "[100, 100]            \tSigmoid \t-> Accuracy: 30.49%\n",
            "[100, 100, 100]       \tSigmoid \t-> Accuracy: 17.89%\n",
            "[100, 100, 100, 100]  \tSigmoid \t-> Accuracy: 17.89%\n",
            "[25, 25]              \tReLu    \t-> Accuracy: 91.78%\n",
            "[50, 50]              \tReLu    \t-> Accuracy: 92.78%\n",
            "[100, 100]            \tReLu    \t-> Accuracy: 92.33%\n",
            "[200, 200]            \tReLu    \t-> Accuracy: 93.22%\n",
            "[100]                 \tReLu    \t-> Accuracy: 93.17%\n",
            "[100, 100]            \tReLu    \t-> Accuracy: 92.87%\n",
            "[100, 100, 100]       \tReLu    \t-> Accuracy: 93.07%\n",
            "[100, 100, 100, 100]  \tReLu    \t-> Accuracy: 91.48%\n"
          ]
        }
      ]
    }
  ]
}